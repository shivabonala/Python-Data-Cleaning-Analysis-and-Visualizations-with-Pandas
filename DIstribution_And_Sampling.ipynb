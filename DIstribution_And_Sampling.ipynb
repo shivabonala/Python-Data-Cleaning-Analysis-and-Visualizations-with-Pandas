{
 "cells": [
  {
   "cell_type": "markdown",
   "metadata": {},
   "source": [
    "## DIstribution_And_Sampling\n",
    "\n",
    "We will be working on US income data. For each county, we have the following columns:\n",
    "\n",
    "id -- the county id.\n",
    "\n",
    "county -- the name and state of the county.\n",
    "\n",
    "pop_over_25 -- the number of adults over age 25.\n",
    "\n",
    "median_income -- the median income for residents over age 25 in the county.\n",
    "\n",
    "median_income_no_hs -- median income for residents without a high school education.\n",
    "\n",
    "median_income_hs -- median income for high school graduates who didn't go to college.\n",
    "\n",
    "median_income_some_college -- median income for residents who went to college but didn't graduate.\n",
    "\n",
    "median_income_college -- median income for college graduates.\n",
    "\n",
    "median_income_graduate_degree -- median income for those with a masters or other graduate degree.\n"
   ]
  },
  {
   "cell_type": "code",
   "execution_count": 92,
   "metadata": {},
   "outputs": [
    {
     "data": {
      "text/html": [
       "<div>\n",
       "<style>\n",
       "    .dataframe thead tr:only-child th {\n",
       "        text-align: right;\n",
       "    }\n",
       "\n",
       "    .dataframe thead th {\n",
       "        text-align: left;\n",
       "    }\n",
       "\n",
       "    .dataframe tbody tr th {\n",
       "        vertical-align: top;\n",
       "    }\n",
       "</style>\n",
       "<table border=\"1\" class=\"dataframe\">\n",
       "  <thead>\n",
       "    <tr style=\"text-align: right;\">\n",
       "      <th></th>\n",
       "      <th>id</th>\n",
       "      <th>county</th>\n",
       "      <th>pop_over_25</th>\n",
       "      <th>median_income</th>\n",
       "      <th>median_income_no_hs</th>\n",
       "      <th>median_income_hs</th>\n",
       "      <th>median_income_some_college</th>\n",
       "      <th>median_income_college</th>\n",
       "      <th>median_income_graduate_degree</th>\n",
       "    </tr>\n",
       "  </thead>\n",
       "  <tbody>\n",
       "    <tr>\n",
       "      <th>0</th>\n",
       "      <td>1001</td>\n",
       "      <td>Autauga County, Alabama</td>\n",
       "      <td>35696</td>\n",
       "      <td>34581</td>\n",
       "      <td>17946</td>\n",
       "      <td>30157</td>\n",
       "      <td>33225</td>\n",
       "      <td>53248</td>\n",
       "      <td>68125</td>\n",
       "    </tr>\n",
       "    <tr>\n",
       "      <th>1</th>\n",
       "      <td>1003</td>\n",
       "      <td>Baldwin County, Alabama</td>\n",
       "      <td>130063</td>\n",
       "      <td>31352</td>\n",
       "      <td>17474</td>\n",
       "      <td>25242</td>\n",
       "      <td>30922</td>\n",
       "      <td>46017</td>\n",
       "      <td>55933</td>\n",
       "    </tr>\n",
       "    <tr>\n",
       "      <th>2</th>\n",
       "      <td>1005</td>\n",
       "      <td>Barbour County, Alabama</td>\n",
       "      <td>18988</td>\n",
       "      <td>25182</td>\n",
       "      <td>20692</td>\n",
       "      <td>21325</td>\n",
       "      <td>24090</td>\n",
       "      <td>41888</td>\n",
       "      <td>50245</td>\n",
       "    </tr>\n",
       "    <tr>\n",
       "      <th>3</th>\n",
       "      <td>1007</td>\n",
       "      <td>Bibb County, Alabama</td>\n",
       "      <td>15340</td>\n",
       "      <td>27638</td>\n",
       "      <td>22274</td>\n",
       "      <td>28980</td>\n",
       "      <td>22387</td>\n",
       "      <td>30284</td>\n",
       "      <td>42236</td>\n",
       "    </tr>\n",
       "    <tr>\n",
       "      <th>4</th>\n",
       "      <td>1009</td>\n",
       "      <td>Blount County, Alabama</td>\n",
       "      <td>38846</td>\n",
       "      <td>32808</td>\n",
       "      <td>24870</td>\n",
       "      <td>27541</td>\n",
       "      <td>34660</td>\n",
       "      <td>48681</td>\n",
       "      <td>53664</td>\n",
       "    </tr>\n",
       "  </tbody>\n",
       "</table>\n",
       "</div>"
      ],
      "text/plain": [
       "     id                   county  pop_over_25  median_income  \\\n",
       "0  1001  Autauga County, Alabama        35696          34581   \n",
       "1  1003  Baldwin County, Alabama       130063          31352   \n",
       "2  1005  Barbour County, Alabama        18988          25182   \n",
       "3  1007     Bibb County, Alabama        15340          27638   \n",
       "4  1009   Blount County, Alabama        38846          32808   \n",
       "\n",
       "   median_income_no_hs  median_income_hs  median_income_some_college  \\\n",
       "0                17946             30157                       33225   \n",
       "1                17474             25242                       30922   \n",
       "2                20692             21325                       24090   \n",
       "3                22274             28980                       22387   \n",
       "4                24870             27541                       34660   \n",
       "\n",
       "   median_income_college  median_income_graduate_degree  \n",
       "0                  53248                          68125  \n",
       "1                  46017                          55933  \n",
       "2                  41888                          50245  \n",
       "3                  30284                          42236  \n",
       "4                  48681                          53664  "
      ]
     },
     "execution_count": 92,
     "metadata": {},
     "output_type": "execute_result"
    }
   ],
   "source": [
    "# read data\n",
    "import pandas as pd\n",
    "\n",
    "income = pd.read_csv(\"us_income.csv\")\n",
    "income.head()\n"
   ]
  },
  {
   "cell_type": "code",
   "execution_count": 93,
   "metadata": {},
   "outputs": [
    {
     "name": "stdout",
     "output_type": "stream",
     "text": [
      "2736    Starr County, Texas\n",
      "Name: county, dtype: object\n"
     ]
    }
   ],
   "source": [
    "# county with the lowest median income \n",
    "sort_incomes = income.sort_values(\"median_income\",ascending=True)\n",
    "lowest_income_county = sort_incomes[\"county\"].head(1)\n",
    "print(lowest_income_county)"
   ]
  },
  {
   "cell_type": "code",
   "execution_count": 94,
   "metadata": {},
   "outputs": [
    {
     "data": {
      "text/html": [
       "<div>\n",
       "<style>\n",
       "    .dataframe thead tr:only-child th {\n",
       "        text-align: right;\n",
       "    }\n",
       "\n",
       "    .dataframe thead th {\n",
       "        text-align: left;\n",
       "    }\n",
       "\n",
       "    .dataframe tbody tr th {\n",
       "        vertical-align: top;\n",
       "    }\n",
       "</style>\n",
       "<table border=\"1\" class=\"dataframe\">\n",
       "  <thead>\n",
       "    <tr style=\"text-align: right;\">\n",
       "      <th></th>\n",
       "      <th>id</th>\n",
       "      <th>county</th>\n",
       "      <th>pop_over_25</th>\n",
       "      <th>median_income</th>\n",
       "      <th>median_income_no_hs</th>\n",
       "      <th>median_income_hs</th>\n",
       "      <th>median_income_some_college</th>\n",
       "      <th>median_income_college</th>\n",
       "      <th>median_income_graduate_degree</th>\n",
       "    </tr>\n",
       "  </thead>\n",
       "  <tbody>\n",
       "    <tr>\n",
       "      <th>362</th>\n",
       "      <td>12086</td>\n",
       "      <td>Miami-Dade County, Florida</td>\n",
       "      <td>1752160</td>\n",
       "      <td>28398</td>\n",
       "      <td>17122</td>\n",
       "      <td>21933</td>\n",
       "      <td>30735</td>\n",
       "      <td>41086</td>\n",
       "      <td>58480</td>\n",
       "    </tr>\n",
       "    <tr>\n",
       "      <th>195</th>\n",
       "      <td>6019</td>\n",
       "      <td>Fresno County, California</td>\n",
       "      <td>553637</td>\n",
       "      <td>28954</td>\n",
       "      <td>15921</td>\n",
       "      <td>25136</td>\n",
       "      <td>31811</td>\n",
       "      <td>51992</td>\n",
       "      <td>67660</td>\n",
       "    </tr>\n",
       "    <tr>\n",
       "      <th>1830</th>\n",
       "      <td>36005</td>\n",
       "      <td>Bronx County, New York</td>\n",
       "      <td>866898</td>\n",
       "      <td>30261</td>\n",
       "      <td>18505</td>\n",
       "      <td>25551</td>\n",
       "      <td>33432</td>\n",
       "      <td>43053</td>\n",
       "      <td>60814</td>\n",
       "    </tr>\n",
       "    <tr>\n",
       "      <th>367</th>\n",
       "      <td>12095</td>\n",
       "      <td>Orange County, Florida</td>\n",
       "      <td>756005</td>\n",
       "      <td>31096</td>\n",
       "      <td>17822</td>\n",
       "      <td>23819</td>\n",
       "      <td>30475</td>\n",
       "      <td>43355</td>\n",
       "      <td>60539</td>\n",
       "    </tr>\n",
       "    <tr>\n",
       "      <th>106</th>\n",
       "      <td>4019</td>\n",
       "      <td>Pima County, Arizona</td>\n",
       "      <td>650440</td>\n",
       "      <td>31630</td>\n",
       "      <td>17437</td>\n",
       "      <td>24478</td>\n",
       "      <td>31138</td>\n",
       "      <td>43332</td>\n",
       "      <td>55313</td>\n",
       "    </tr>\n",
       "  </tbody>\n",
       "</table>\n",
       "</div>"
      ],
      "text/plain": [
       "         id                      county  pop_over_25  median_income  \\\n",
       "362   12086  Miami-Dade County, Florida      1752160          28398   \n",
       "195    6019   Fresno County, California       553637          28954   \n",
       "1830  36005      Bronx County, New York       866898          30261   \n",
       "367   12095      Orange County, Florida       756005          31096   \n",
       "106    4019        Pima County, Arizona       650440          31630   \n",
       "\n",
       "      median_income_no_hs  median_income_hs  median_income_some_college  \\\n",
       "362                 17122             21933                       30735   \n",
       "195                 15921             25136                       31811   \n",
       "1830                18505             25551                       33432   \n",
       "367                 17822             23819                       30475   \n",
       "106                 17437             24478                       31138   \n",
       "\n",
       "      median_income_college  median_income_graduate_degree  \n",
       "362                   41086                          58480  \n",
       "195                   51992                          67660  \n",
       "1830                  43053                          60814  \n",
       "367                   43355                          60539  \n",
       "106                   43332                          55313  "
      ]
     },
     "execution_count": 94,
     "metadata": {},
     "output_type": "execute_result"
    }
   ],
   "source": [
    "# county with the lowest median income and more than 50000 residents\n",
    "lowest_income_high_pop_county = sort_incomes[sort_incomes.pop_over_25 > 500000]\n",
    "lowest_income_high_pop_county.head()"
   ]
  },
  {
   "cell_type": "code",
   "execution_count": 95,
   "metadata": {},
   "outputs": [
    {
     "name": "stdout",
     "output_type": "stream",
     "text": [
      "Starr County, Texas  -  Miami-Dade County, Florida\n"
     ]
    }
   ],
   "source": [
    "# using idxmin function to calculat the lowest county and highest population \n",
    "\n",
    "lowest_income_county = income.county[income.median_income.idxmin()]\n",
    "\n",
    "high_population = income[income[\"pop_over_25\"] > 500000]\n",
    "lowest_income_high_population_county = high_population[\"county\"][high_population[\"median_income\"].idxmin()]\n",
    "\n",
    "print(lowest_income_county,\" - \" , lowest_income_high_population_county)\n"
   ]
  },
  {
   "cell_type": "code",
   "execution_count": 96,
   "metadata": {},
   "outputs": [
    {
     "name": "stdout",
     "output_type": "stream",
     "text": [
      "1\n",
      "[9, 10, 6, 10, 2, 8, 9, 7, 6, 3]\n",
      "[9, 0, 6, 7, 9]\n",
      "[9, 0, 6, 7, 9]\n",
      "[10, 2, 4, 10, 10, 1, 5, 9, 2, 0]\n",
      "[10, 2, 4, 10, 10, 1, 5, 9, 2, 0]\n"
     ]
    }
   ],
   "source": [
    "# generate random numbers \n",
    "\n",
    "import random\n",
    "\n",
    "num = random.randint(0,10)\n",
    "print(num)\n",
    "\n",
    "random_numbers = [random.randint(0,10) for i in range(10)]\n",
    "print(random_numbers)\n",
    "\n",
    "random.seed(10)\n",
    "random_numbers = [random.randint(0,10) for i in range(5)]\n",
    "print(random_numbers)\n",
    "\n",
    "random.seed(10)\n",
    "random_numbers = [random.randint(0,10) for i in range(5)]\n",
    "print(random_numbers)\n",
    "\n",
    "\n",
    "random.seed(20)\n",
    "random_numbers = [random.randint(0,10) for i in range(10)]\n",
    "print(random_numbers)\n",
    "\n",
    "random.seed(20)\n",
    "random_numbers = [random.randint(0,10) for i in range(10)]\n",
    "print(random_numbers)"
   ]
  },
  {
   "cell_type": "code",
   "execution_count": 97,
   "metadata": {},
   "outputs": [
    {
     "name": "stdout",
     "output_type": "stream",
     "text": [
      "[300, 500, 100, 800]\n",
      "[300, 500, 100, 800, 600]\n",
      "[300, 500, 100, 800, 600, 200]\n"
     ]
    }
   ],
   "source": [
    "# selecting random sample from the list\n",
    "\n",
    "lists = [100,200,300,400,500,600,700,800]\n",
    "\n",
    "random.seed(1)\n",
    "sample_lists = random.sample(lists,4)\n",
    "print(sample_lists)\n",
    "\n",
    "\n",
    "random.seed(1)\n",
    "sample_lists = random.sample(lists,5)\n",
    "print(sample_lists)\n",
    "\n",
    "\n",
    "random.seed(1)\n",
    "sample_lists = random.sample(lists,6)\n",
    "print(sample_lists)"
   ]
  },
  {
   "cell_type": "code",
   "execution_count": 98,
   "metadata": {},
   "outputs": [
    {
     "data": {
      "image/png": "[encoded data removed]",
      "text/plain": [
       "<matplotlib.figure.Figure at 0x186b94544e0>"
      ]
     },
     "metadata": {},
     "output_type": "display_data"
    },
    {
     "data": {
      "image/png": "[encoded data removed]",
      "text/plain": [
       "<matplotlib.figure.Figure at 0x186b82bbb70>"
      ]
     },
     "metadata": {},
     "output_type": "display_data"
    },
    {
     "data": {
      "image/png": "[encoded data removed]",
      "text/plain": [
       "<matplotlib.figure.Figure at 0x186b93daac8>"
      ]
     },
     "metadata": {},
     "output_type": "display_data"
    }
   ],
   "source": [
    "# compare histpgram plots for small, medium and large samples of rolling the die N times\n",
    "import matplotlib.pyplot as plt\n",
    "import random\n",
    "\n",
    "def roll_dice():\n",
    "    return random.randint(1,6)\n",
    "    \n",
    "random.seed(1)\n",
    "small_sample = [roll_dice() for i in range(10)]\n",
    "plt.hist(small_sample,bins=6)\n",
    "plt.show()\n",
    "    \n",
    "    \n",
    "random.seed(1)\n",
    "medium_sample = [roll_dice() for i in range(100)]\n",
    "plt.hist(medium_sample,bins=6)\n",
    "plt.show()\n",
    "\n",
    "random.seed(1)\n",
    "large_sample = [roll_dice() for i in range(1000)]\n",
    "plt.hist(large_sample,bins=6)\n",
    "plt.show()\n",
    "\n"
   ]
  },
  {
   "cell_type": "code",
   "execution_count": 99,
   "metadata": {},
   "outputs": [
    {
     "data": {
      "image/png": "[encoded data removed]",
      "text/plain": [
       "<matplotlib.figure.Figure at 0x186b7e20a20>"
      ]
     },
     "metadata": {},
     "output_type": "display_data"
    },
    {
     "data": {
      "image/png": "[encoded data removed]",
      "text/plain": [
       "<matplotlib.figure.Figure at 0x186b7e20390>"
      ]
     },
     "metadata": {},
     "output_type": "display_data"
    },
    {
     "data": {
      "image/png": "[encoded data removed]",
      "text/plain": [
       "<matplotlib.figure.Figure at 0x186b93bc588>"
      ]
     },
     "metadata": {},
     "output_type": "display_data"
    }
   ],
   "source": [
    "# probability of rolling a one from 300 trails and 10,100,1000 die rolls each\n",
    "\n",
    "def roll():\n",
    "    return random.randint(1,6)\n",
    "\n",
    "def probability_of_one(num_trials, num_rolls):\n",
    "    \"\"\"\n",
    "    This function will take in the number of trials, and the number of rolls per trial.\n",
    "    Then it will conduct each trial, and record the probability of rolling a one.\n",
    "    \"\"\"\n",
    "    probabilities = []\n",
    "    for i in range(num_trials):\n",
    "        die_rolls = [roll() for _ in range(num_rolls)]\n",
    "        one_prob = len([d for d in die_rolls if d==1]) / num_rolls\n",
    "        probabilities.append(one_prob)\n",
    "    return probabilities\n",
    "\n",
    "random.seed(1)\n",
    "small_sample = probability_of_one(300, 50)\n",
    "plt.hist(small_sample, 20)\n",
    "plt.ylim(0,70)\n",
    "plt.xlim(0,0.4)\n",
    "plt.show()\n",
    "\n",
    "\n",
    "random.seed(1)\n",
    "medium_sample = probability_of_one(300, 100)\n",
    "plt.hist(medium_sample, 20)\n",
    "plt.ylim(0,70)\n",
    "plt.xlim(0,0.4)\n",
    "plt.show()\n",
    "\n",
    "random.seed(1)\n",
    "large_sample = probability_of_one(300, 1000)\n",
    "plt.hist(large_sample, 20)\n",
    "plt.ylim(0,70)\n",
    "plt.xlim(0,0.4)\n",
    "plt.show()\n",
    "        \n",
    "        \n",
    "        \n",
    "        "
   ]
  },
  {
   "cell_type": "code",
   "execution_count": 100,
   "metadata": {},
   "outputs": [
    {
     "name": "stdout",
     "output_type": "stream",
     "text": [
      "1.14517051164\n",
      "32\n"
     ]
    }
   ],
   "source": [
    "# Find how many standard deviations away from the mean of large_sample .18\n",
    "# ind how many probabilities in large sample are greater than or equal to .18. \n",
    "\n",
    "large_sample_std = np.std(large_sample)\n",
    "\n",
    "large_sample_mean = np.mean(large_sample)\n",
    "\n",
    "mean_dev = (.18 - large_sample_mean) / large_sample_std\n",
    "prob_gr_18 = len([i for i in large_sample if i > 0.18 ])\n",
    "print(mean_dev)\n",
    "print(prob_gr_18)\n"
   ]
  },
  {
   "cell_type": "code",
   "execution_count": 101,
   "metadata": {},
   "outputs": [
    {
     "data": {
      "image/png": "[encoded data removed]",
      "text/plain": [
       "<matplotlib.figure.Figure at 0x186b3b1e0f0>"
      ]
     },
     "metadata": {},
     "output_type": "display_data"
    }
   ],
   "source": [
    "# pick 1000 random samples of 100 counties each from the income data and find mean and plot hsitogram\n",
    "\n",
    "\n",
    "def sample_function(count):\n",
    "    random_sample = random.sample(range(0,income.shape[0]),count)\n",
    "    return income.iloc[random_sample]\n",
    "\n",
    "random.seed(1)\n",
    "sample_mean = [sample_function(100)[\"median_income\"].mean() for i in range(1000)]\n",
    "plt.hist(sample_mean,20)\n",
    "plt.show()\n"
   ]
  },
  {
   "cell_type": "code",
   "execution_count": 102,
   "metadata": {},
   "outputs": [
    {
     "data": {
      "image/png": "[encoded data removed]",
      "text/plain": [
       "<matplotlib.figure.Figure at 0x186b7ecb1d0>"
      ]
     },
     "metadata": {},
     "output_type": "display_data"
    }
   ],
   "source": [
    "mean_ratios = []\n",
    "\n",
    "random.seed(1)\n",
    "\n",
    "for i in range(1000):\n",
    "    random_sample = sample_function(100)\n",
    "    sample_ratios = random_sample[\"median_income_hs\"]/random_sample[\"median_income_college\"] \n",
    "    mean_ratios.append(sample_ratios.mean())\n",
    "    \n",
    "    \n",
    "plt.hist(mean_ratios,20)\n",
    "plt.show()\n",
    "    \n"
   ]
  },
  {
   "cell_type": "code",
   "execution_count": null,
   "metadata": {
    "collapsed": true
   },
   "outputs": [],
   "source": []
  }
 ],
 "metadata": {
  "kernelspec": {
   "display_name": "Python 3",
   "language": "python",
   "name": "python3"
  },
  "language_info": {
   "codemirror_mode": {
    "name": "ipython",
    "version": 3
   },
   "file_extension": ".py",
   "mimetype": "text/x-python",
   "name": "python",
   "nbconvert_exporter": "python",
   "pygments_lexer": "ipython3",
   "version": "3.6.1"
  }
 },
 "nbformat": 4,
 "nbformat_minor": 2
}
